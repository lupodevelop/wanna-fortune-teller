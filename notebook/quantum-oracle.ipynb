{
 "cells": [
  {
   "cell_type": "markdown",
   "id": "ac2a4f1c",
   "metadata": {},
   "source": [
    "This code is a simulation of a quantum random number generator using the Hadamard gate. The code uses the Qiskit library, which is an open-source framework for developing quantum algorithms and executing them on quantum computers and simulators. In this example, a quantum circuit is created using a Quantum Register of 6 qubits and a Classical Register of 6 bits. The Hadamard gate is applied to each qubit, followed by a measurement operation, to extract random numbers from the quantum system. The simulation is run on the IBM Quantum Lab, which is a cloud-based platform for accessing IBM's quantum computers and simulators. The results of the simulation are then used to extract 6 unique, randomly selected numbers from a list of possible numbers. This code serves as an example of how quantum computing can be used to generate random numbers, which have applications in cryptography, simulations, and other fields."
   ]
  },
  {
   "cell_type": "code",
   "execution_count": 10,
   "id": "4a58f34b",
   "metadata": {},
   "outputs": [
    {
     "name": "stdout",
     "output_type": "stream",
     "text": [
      "Oracle length: 64\n",
      "Mapped numbers: \n",
      "[37, 83, 51, 44, 27, 65, 48, 72, 64, 53, 2, 89, 86, 5, 58, 68, 38, 16, 13, 43, 23, 54, 74, 20, 36, 78, 88, 46, 60, 34, 26, 1, 8, 69, 41, 9, 47, 81, 3, 79, 6, 76, 75, 22, 24, 33, 31, 12, 85, 82, 50, 67, 40, 17, 57, 15, 19, 71, 61, 10, 29, 30, 62, 55]\n",
      "Extraction:  \n",
      "[72, 57, 43, 53, 48, 22]\n"
     ]
    }
   ],
   "source": [
    "# Author: lupodevelop\n",
    "# Date:   30 January 2023\n",
    "\n",
    "\n",
    "from qiskit import QuantumRegister, ClassicalRegister, QuantumCircuit, execute\n",
    "from qiskit.providers.aer import QasmSimulator\n",
    "import random\n",
    "\n",
    "# Create a quantum register with 6 qubits\n",
    "q = QuantumRegister(6)\n",
    "# Create a classical register with 6 bits\n",
    "c = ClassicalRegister(6)\n",
    "# Create the quantum circuit\n",
    "qc = QuantumCircuit(q, c)\n",
    "\n",
    "# Perform quantum extraction for each qubit\n",
    "for i in range(6):\n",
    "    # Apply the Hadamard gate to the qubit\n",
    "    # The Hadamard gate is a single-qubit quantum gate that maps \n",
    "    # the state of a qubit to a superposition of two basis states. \n",
    "    # It is commonly used in quantum computing to prepare the initial \n",
    "    # state of a qubit and to perform quantum operations such as \n",
    "    # quantum phase estimation.  \n",
    "    qc.h(q[i])\n",
    "    # Measure the qubit and store the result in the classical register\n",
    "    qc.measure(q[i], c[i])\n",
    "\n",
    "# Execute the circuit on a simulator\n",
    "backend = QasmSimulator()\n",
    "job = execute(qc, backend)\n",
    "result = job.result()\n",
    "\n",
    "# Extract the results from the simulation\n",
    "numbers = [int(x, 2) for x in result.get_counts(qc).keys()]\n",
    "print(\"Oracle length: \" + str(len(numbers)))\n",
    "\n",
    "# Map the numbers from 0 to 2^6-1 to a range from 1 to 90\n",
    "mapped_numbers = [int(x/2**6*90)+1 for x in numbers]\n",
    "print(\"Mapped numbers: \")\n",
    "print(mapped_numbers)\n",
    "\n",
    "# Choose 6 unique random numbers from the list\n",
    "unique_numbers = random.sample(mapped_numbers, 6)\n",
    "print(\"Extraction:  \")\n",
    "print(unique_numbers)"
   ]
  },
  {
   "cell_type": "code",
   "execution_count": null,
   "id": "5aa5364a",
   "metadata": {},
   "outputs": [],
   "source": []
  }
 ],
 "metadata": {
  "kernelspec": {
   "display_name": "Python 3 (ipykernel)",
   "language": "python",
   "name": "python3"
  },
  "language_info": {
   "codemirror_mode": {
    "name": "ipython",
    "version": 3
   },
   "file_extension": ".py",
   "mimetype": "text/x-python",
   "name": "python",
   "nbconvert_exporter": "python",
   "pygments_lexer": "ipython3",
   "version": "3.9.6"
  }
 },
 "nbformat": 4,
 "nbformat_minor": 5
}
